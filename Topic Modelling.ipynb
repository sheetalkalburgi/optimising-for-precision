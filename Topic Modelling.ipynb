{
 "cells": [
  {
   "cell_type": "code",
   "execution_count": 1,
   "metadata": {},
   "outputs": [],
   "source": [
    "import numpy as np\n",
    "import pandas as pd\n",
    "\n",
    "import math\n",
    "from numpy.linalg import norm\n",
    "\n",
    "from sklearn.metrics.pairwise import cosine_similarity,euclidean_distances\n",
    "\n",
    "import warnings\n",
    "warnings.filterwarnings(\"ignore\")\n",
    "\n",
    "import re\n",
    "import nltk\n",
    "from nltk.corpus import wordnet as wn\n",
    "from nltk.tokenize import RegexpTokenizer\n",
    "from nltk.corpus import stopwords\n",
    "from nltk.stem import WordNetLemmatizer\n",
    "from nltk.tokenize import word_tokenize\n",
    "\n",
    "from sentence_transformers import SentenceTransformer\n",
    "\n",
    "import matplotlib.pyplot as plt\n",
    "%matplotlib inline\n",
    "\n",
    "from sklearn.model_selection import train_test_split\n",
    "from sklearn.feature_extraction.text import TfidfVectorizer\n",
    "\n",
    "from sklearn.ensemble import RandomForestClassifier\n",
    "from sklearn.linear_model import LogisticRegression\n",
    "from sklearn import metrics\n",
    "from sklearn.metrics import f1_score\n",
    "from sklearn.metrics import cohen_kappa_score"
   ]
  },
  {
   "cell_type": "code",
   "execution_count": 2,
   "metadata": {},
   "outputs": [],
   "source": [
    "def cosine_sim(src, tgt):\n",
    "    similarity = cosine_similarity(src, tgt)\n",
    "    return similarity\n",
    "\n",
    "def euclidean_dist(src, tgt):\n",
    "    distance = euclidean_distances(src, tgt)\n",
    "    return distance\n",
    "\n",
    "def vector_summation(sentences):\n",
    "    sent_len = sentences.shape[1]\n",
    "    summed_sentence = sentences.sum(axis=1) / sent_len\n",
    "    return summed_sentence\n",
    "\n",
    "def show_topics(word_topic_matrix, word_labels, num_top_words=5):\n",
    "    top_words_func = lambda x: [word_labels[i] for i in np.argsort(x)[:-num_top_words-1:-1]]\n",
    "    topic_words = ([top_words_func(i) for i in word_topic_matrix])\n",
    "    return [' '.join(x) for x in topic_words]"
   ]
  },
  {
   "cell_type": "code",
   "execution_count": 3,
   "metadata": {},
   "outputs": [
    {
     "data": {
      "text/html": [
       "<div>\n",
       "<style scoped>\n",
       "    .dataframe tbody tr th:only-of-type {\n",
       "        vertical-align: middle;\n",
       "    }\n",
       "\n",
       "    .dataframe tbody tr th {\n",
       "        vertical-align: top;\n",
       "    }\n",
       "\n",
       "    .dataframe thead th {\n",
       "        text-align: right;\n",
       "    }\n",
       "</style>\n",
       "<table border=\"1\" class=\"dataframe\">\n",
       "  <thead>\n",
       "    <tr style=\"text-align: right;\">\n",
       "      <th></th>\n",
       "      <th>FDA_Chapter</th>\n",
       "      <th>FDA_Section</th>\n",
       "      <th>FDA_Code</th>\n",
       "      <th>FDA_Subpart</th>\n",
       "      <th>FDA_Description</th>\n",
       "      <th>matched</th>\n",
       "      <th>score</th>\n",
       "      <th>HC_Code</th>\n",
       "      <th>HC_Chapter</th>\n",
       "      <th>HC_Section</th>\n",
       "      <th>HC_Subpart</th>\n",
       "      <th>HC_Description</th>\n",
       "      <th>truth</th>\n",
       "      <th>y_true</th>\n",
       "      <th>fda_desc_cleaned</th>\n",
       "      <th>hc_desc_cleaned</th>\n",
       "    </tr>\n",
       "  </thead>\n",
       "  <tbody>\n",
       "    <tr>\n",
       "      <th>0</th>\n",
       "      <td>CURRENT GOOD MANUFACTURING PRACTICE FOR FINISH...</td>\n",
       "      <td>Buildings and Facilities</td>\n",
       "      <td>\"211.56\"</td>\n",
       "      <td>Sanitation.</td>\n",
       "      <td>(a) Any building used in the manufacture, proc...</td>\n",
       "      <td>1</td>\n",
       "      <td>0.773877</td>\n",
       "      <td>C.02.004</td>\n",
       "      <td>Drugs</td>\n",
       "      <td>Good Manufacturing Practices</td>\n",
       "      <td>Premises</td>\n",
       "      <td>The premises in which a lot or batch of a drug...</td>\n",
       "      <td>Y</td>\n",
       "      <td>1</td>\n",
       "      <td>Any building used manufacture processing packi...</td>\n",
       "      <td>The premise lot batch drug fabricated packaged...</td>\n",
       "    </tr>\n",
       "    <tr>\n",
       "      <th>1</th>\n",
       "      <td>CURRENT GOOD MANUFACTURING PRACTICE FOR TYPE A...</td>\n",
       "      <td>Construction and Maintenance of Facilities and...</td>\n",
       "      <td>\"226.20\"</td>\n",
       "      <td>Buildings.</td>\n",
       "      <td>Buildings in which Type A medicated article(s)...</td>\n",
       "      <td>1</td>\n",
       "      <td>0.724563</td>\n",
       "      <td>C.02.004</td>\n",
       "      <td>Drugs</td>\n",
       "      <td>Good Manufacturing Practices</td>\n",
       "      <td>Premises</td>\n",
       "      <td>The premises in which a lot or batch of a drug...</td>\n",
       "      <td>Y</td>\n",
       "      <td>1</td>\n",
       "      <td>Buildings Type A medicated article manufacture...</td>\n",
       "      <td>The premise lot batch drug fabricated packaged...</td>\n",
       "    </tr>\n",
       "    <tr>\n",
       "      <th>2</th>\n",
       "      <td>CURRENT GOOD MANUFACTURING PRACTICE FOR FINISH...</td>\n",
       "      <td>Buildings and Facilities</td>\n",
       "      <td>\"211.58\"</td>\n",
       "      <td>Maintenance.</td>\n",
       "      <td>Any building used in the manufacture, processi...</td>\n",
       "      <td>1</td>\n",
       "      <td>0.717186</td>\n",
       "      <td>C.02.004</td>\n",
       "      <td>Drugs</td>\n",
       "      <td>Good Manufacturing Practices</td>\n",
       "      <td>Premises</td>\n",
       "      <td>The premises in which a lot or batch of a drug...</td>\n",
       "      <td>Y</td>\n",
       "      <td>1</td>\n",
       "      <td>Any building used manufacture processing packi...</td>\n",
       "      <td>The premise lot batch drug fabricated packaged...</td>\n",
       "    </tr>\n",
       "  </tbody>\n",
       "</table>\n",
       "</div>"
      ],
      "text/plain": [
       "                                         FDA_Chapter  \\\n",
       "0  CURRENT GOOD MANUFACTURING PRACTICE FOR FINISH...   \n",
       "1  CURRENT GOOD MANUFACTURING PRACTICE FOR TYPE A...   \n",
       "2  CURRENT GOOD MANUFACTURING PRACTICE FOR FINISH...   \n",
       "\n",
       "                                         FDA_Section  FDA_Code   FDA_Subpart  \\\n",
       "0                           Buildings and Facilities  \"211.56\"   Sanitation.   \n",
       "1  Construction and Maintenance of Facilities and...  \"226.20\"    Buildings.   \n",
       "2                           Buildings and Facilities  \"211.58\"  Maintenance.   \n",
       "\n",
       "                                     FDA_Description  matched     score  \\\n",
       "0  (a) Any building used in the manufacture, proc...        1  0.773877   \n",
       "1  Buildings in which Type A medicated article(s)...        1  0.724563   \n",
       "2  Any building used in the manufacture, processi...        1  0.717186   \n",
       "\n",
       "    HC_Code HC_Chapter                    HC_Section HC_Subpart  \\\n",
       "0  C.02.004      Drugs  Good Manufacturing Practices   Premises   \n",
       "1  C.02.004      Drugs  Good Manufacturing Practices   Premises   \n",
       "2  C.02.004      Drugs  Good Manufacturing Practices   Premises   \n",
       "\n",
       "                                      HC_Description truth y_true  \\\n",
       "0  The premises in which a lot or batch of a drug...     Y      1   \n",
       "1  The premises in which a lot or batch of a drug...     Y      1   \n",
       "2  The premises in which a lot or batch of a drug...     Y      1   \n",
       "\n",
       "                                    fda_desc_cleaned  \\\n",
       "0  Any building used manufacture processing packi...   \n",
       "1  Buildings Type A medicated article manufacture...   \n",
       "2  Any building used manufacture processing packi...   \n",
       "\n",
       "                                     hc_desc_cleaned  \n",
       "0  The premise lot batch drug fabricated packaged...  \n",
       "1  The premise lot batch drug fabricated packaged...  \n",
       "2  The premise lot batch drug fabricated packaged...  "
      ]
     },
     "execution_count": 3,
     "metadata": {},
     "output_type": "execute_result"
    }
   ],
   "source": [
    "data = pd.read_excel('review.xlsx')\n",
    "data.drop(['Unnamed: 13'],axis=1,inplace=True)\n",
    "\n",
    "data['y_true'] = ''\n",
    "for i in range(0,len(data)):\n",
    "    if data['truth'][i] == 'Y':\n",
    "        data['y_true'][i] = 1\n",
    "    elif data['truth'][i] == 'N':\n",
    "        data['y_true'][i] = 0 \n",
    "        \n",
    "data_Interpretation= data.loc[data['HC_Subpart'] == 'Interpretation']\n",
    "data_General = data.loc[data['HC_Subpart'] == 'General']\n",
    "data_removal = pd.concat([data_Interpretation,data_General])\n",
    "cond = data['HC_Subpart'].isin(data_removal['HC_Subpart'])\n",
    "data.drop(data[cond].index, inplace = True)\n",
    "data.reset_index(drop=True, inplace=True)\n",
    "        \n",
    "data['fda_desc_cleaned']=''\n",
    "data['hc_desc_cleaned']=''\n",
    "\n",
    "# Pre-processing FDA Descriptions\n",
    "lemmatizer = WordNetLemmatizer()\n",
    "pattern1 = re.compile(r'\\b(' + r'|'.join(stopwords.words('english')) + r')\\b\\s*')\n",
    "pattern2 = '[0-9]'\n",
    "for i in range(0,len(data)):\n",
    "        sent_ref = data.iloc[i]['FDA_Description']\n",
    "#         sent_ref = sent_ref.lower() # convert to lower case\n",
    "        word_list = nltk.word_tokenize(sent_ref)\n",
    "        sent_ref = ' '.join([lemmatizer.lemmatize(w) for w in word_list]) # lemmatize\n",
    "        sent_ref = re.sub(r'\\([^)]*\\)', '', sent_ref) # remove characters which are within () and []\n",
    "        sent_ref = pattern1.sub('', sent_ref) # remove stopwords\n",
    "        sent_ref = re.sub(r'[^\\w\\s]','',sent_ref) # remove spaces (new line, tabs etc)\n",
    "        sent_ref = re.sub(pattern2, '', sent_ref) # remove numbers\n",
    "        sent_ref = \" \".join(sent_ref.split()) # remove whitespaces, if any\n",
    "        data['fda_desc_cleaned'][i] = sent_ref\n",
    "        \n",
    "# Pre-processing Health Canada Descriptions\n",
    "lemmatizer = WordNetLemmatizer()\n",
    "pattern1 = re.compile(r'\\b(' + r'|'.join(stopwords.words('english')) + r')\\b\\s*')\n",
    "pattern2 = '[0-9]'\n",
    "for i in range(0,len(data)):\n",
    "        sent_ref = data.iloc[i]['HC_Description']\n",
    "#         sent_ref = sent_ref.lower() # convert to lower case\n",
    "        word_list = nltk.word_tokenize(sent_ref)\n",
    "        sent_ref = ' '.join([lemmatizer.lemmatize(w) for w in word_list]) # lemmatize\n",
    "        sent_ref = re.sub(r'\\([^)]*\\)', '', sent_ref) # remove characters which are within parenthesis\n",
    "        sent_ref = pattern1.sub('', sent_ref) # remove stopwords\n",
    "        sent_ref = re.sub(r'[^\\w\\s]','',sent_ref) # remove spaces (new line, tabs etc)\n",
    "        sent_ref = re.sub(pattern2, '', sent_ref) # remove numbers\n",
    "        sent_ref = \" \".join(sent_ref.split()) # remove whitespaces, if any\n",
    "        data['hc_desc_cleaned'][i] = sent_ref\n",
    "        \n",
    "data.head(3)"
   ]
  },
  {
   "cell_type": "code",
   "execution_count": 4,
   "metadata": {},
   "outputs": [],
   "source": [
    "embedder = SentenceTransformer('distilbert-base-nli-mean-tokens')"
   ]
  },
  {
   "cell_type": "code",
   "execution_count": 5,
   "metadata": {},
   "outputs": [
    {
     "name": "stdout",
     "output_type": "stream",
     "text": [
      "---------- Bert + Cosine ----------\n",
      "true positives: 13\n",
      "true negatives: 43\n",
      "false positives: 26\n",
      "false negatives: 6\n",
      "precision: 0.3333333333333333\n",
      "specificity: 0.6231884057971014\n",
      "recall: 0.6842105263157895\n",
      "accuracy: 0.6363636363636364\n"
     ]
    },
    {
     "data": {
      "text/html": [
       "<div>\n",
       "<style scoped>\n",
       "    .dataframe tbody tr th:only-of-type {\n",
       "        vertical-align: middle;\n",
       "    }\n",
       "\n",
       "    .dataframe tbody tr th {\n",
       "        vertical-align: top;\n",
       "    }\n",
       "\n",
       "    .dataframe thead th {\n",
       "        text-align: right;\n",
       "    }\n",
       "</style>\n",
       "<table border=\"1\" class=\"dataframe\">\n",
       "  <thead>\n",
       "    <tr style=\"text-align: right;\">\n",
       "      <th></th>\n",
       "      <th>FDA_Chapter</th>\n",
       "      <th>FDA_Section</th>\n",
       "      <th>FDA_Code</th>\n",
       "      <th>FDA_Subpart</th>\n",
       "      <th>FDA_Description</th>\n",
       "      <th>matched</th>\n",
       "      <th>score</th>\n",
       "      <th>HC_Code</th>\n",
       "      <th>HC_Chapter</th>\n",
       "      <th>HC_Section</th>\n",
       "      <th>HC_Subpart</th>\n",
       "      <th>HC_Description</th>\n",
       "      <th>truth</th>\n",
       "      <th>y_true</th>\n",
       "      <th>fda_desc_cleaned</th>\n",
       "      <th>hc_desc_cleaned</th>\n",
       "      <th>y_bert</th>\n",
       "      <th>score_bert</th>\n",
       "      <th>cm_bert</th>\n",
       "    </tr>\n",
       "  </thead>\n",
       "  <tbody>\n",
       "    <tr>\n",
       "      <th>0</th>\n",
       "      <td>CURRENT GOOD MANUFACTURING PRACTICE FOR FINISH...</td>\n",
       "      <td>Buildings and Facilities</td>\n",
       "      <td>\"211.56\"</td>\n",
       "      <td>Sanitation.</td>\n",
       "      <td>(a) Any building used in the manufacture, proc...</td>\n",
       "      <td>1</td>\n",
       "      <td>0.773877</td>\n",
       "      <td>C.02.004</td>\n",
       "      <td>Drugs</td>\n",
       "      <td>Good Manufacturing Practices</td>\n",
       "      <td>Premises</td>\n",
       "      <td>The premises in which a lot or batch of a drug...</td>\n",
       "      <td>Y</td>\n",
       "      <td>1</td>\n",
       "      <td>Any building used manufacture processing packi...</td>\n",
       "      <td>The premise lot batch drug fabricated packaged...</td>\n",
       "      <td>0</td>\n",
       "      <td>0.797674</td>\n",
       "      <td>FN</td>\n",
       "    </tr>\n",
       "    <tr>\n",
       "      <th>1</th>\n",
       "      <td>CURRENT GOOD MANUFACTURING PRACTICE FOR TYPE A...</td>\n",
       "      <td>Construction and Maintenance of Facilities and...</td>\n",
       "      <td>\"226.20\"</td>\n",
       "      <td>Buildings.</td>\n",
       "      <td>Buildings in which Type A medicated article(s)...</td>\n",
       "      <td>1</td>\n",
       "      <td>0.724563</td>\n",
       "      <td>C.02.004</td>\n",
       "      <td>Drugs</td>\n",
       "      <td>Good Manufacturing Practices</td>\n",
       "      <td>Premises</td>\n",
       "      <td>The premises in which a lot or batch of a drug...</td>\n",
       "      <td>Y</td>\n",
       "      <td>1</td>\n",
       "      <td>Buildings Type A medicated article manufacture...</td>\n",
       "      <td>The premise lot batch drug fabricated packaged...</td>\n",
       "      <td>1</td>\n",
       "      <td>0.81801</td>\n",
       "      <td>TP</td>\n",
       "    </tr>\n",
       "    <tr>\n",
       "      <th>2</th>\n",
       "      <td>CURRENT GOOD MANUFACTURING PRACTICE FOR FINISH...</td>\n",
       "      <td>Buildings and Facilities</td>\n",
       "      <td>\"211.58\"</td>\n",
       "      <td>Maintenance.</td>\n",
       "      <td>Any building used in the manufacture, processi...</td>\n",
       "      <td>1</td>\n",
       "      <td>0.717186</td>\n",
       "      <td>C.02.004</td>\n",
       "      <td>Drugs</td>\n",
       "      <td>Good Manufacturing Practices</td>\n",
       "      <td>Premises</td>\n",
       "      <td>The premises in which a lot or batch of a drug...</td>\n",
       "      <td>Y</td>\n",
       "      <td>1</td>\n",
       "      <td>Any building used manufacture processing packi...</td>\n",
       "      <td>The premise lot batch drug fabricated packaged...</td>\n",
       "      <td>1</td>\n",
       "      <td>0.829109</td>\n",
       "      <td>TP</td>\n",
       "    </tr>\n",
       "  </tbody>\n",
       "</table>\n",
       "</div>"
      ],
      "text/plain": [
       "                                         FDA_Chapter  \\\n",
       "0  CURRENT GOOD MANUFACTURING PRACTICE FOR FINISH...   \n",
       "1  CURRENT GOOD MANUFACTURING PRACTICE FOR TYPE A...   \n",
       "2  CURRENT GOOD MANUFACTURING PRACTICE FOR FINISH...   \n",
       "\n",
       "                                         FDA_Section  FDA_Code   FDA_Subpart  \\\n",
       "0                           Buildings and Facilities  \"211.56\"   Sanitation.   \n",
       "1  Construction and Maintenance of Facilities and...  \"226.20\"    Buildings.   \n",
       "2                           Buildings and Facilities  \"211.58\"  Maintenance.   \n",
       "\n",
       "                                     FDA_Description  matched     score  \\\n",
       "0  (a) Any building used in the manufacture, proc...        1  0.773877   \n",
       "1  Buildings in which Type A medicated article(s)...        1  0.724563   \n",
       "2  Any building used in the manufacture, processi...        1  0.717186   \n",
       "\n",
       "    HC_Code HC_Chapter                    HC_Section HC_Subpart  \\\n",
       "0  C.02.004      Drugs  Good Manufacturing Practices   Premises   \n",
       "1  C.02.004      Drugs  Good Manufacturing Practices   Premises   \n",
       "2  C.02.004      Drugs  Good Manufacturing Practices   Premises   \n",
       "\n",
       "                                      HC_Description truth y_true  \\\n",
       "0  The premises in which a lot or batch of a drug...     Y      1   \n",
       "1  The premises in which a lot or batch of a drug...     Y      1   \n",
       "2  The premises in which a lot or batch of a drug...     Y      1   \n",
       "\n",
       "                                    fda_desc_cleaned  \\\n",
       "0  Any building used manufacture processing packi...   \n",
       "1  Buildings Type A medicated article manufacture...   \n",
       "2  Any building used manufacture processing packi...   \n",
       "\n",
       "                                     hc_desc_cleaned y_bert score_bert cm_bert  \n",
       "0  The premise lot batch drug fabricated packaged...      0   0.797674      FN  \n",
       "1  The premise lot batch drug fabricated packaged...      1    0.81801      TP  \n",
       "2  The premise lot batch drug fabricated packaged...      1   0.829109      TP  "
      ]
     },
     "execution_count": 5,
     "metadata": {},
     "output_type": "execute_result"
    }
   ],
   "source": [
    "data['y_bert'] = ''\n",
    "data['score_bert'] = ''\n",
    "\n",
    "for i in range(0,len(data)):\n",
    "    sent1 = data['fda_desc_cleaned'][i]\n",
    "    sent2 = data['hc_desc_cleaned'][i]\n",
    "    enc_sentences = embedder.encode([sent1,sent2])\n",
    "    data['score_bert'][i] = cosine_sim(enc_sentences[0:1],enc_sentences)[0,1]\n",
    "    \n",
    "for i in range(0,len(data)):\n",
    "    if data['score_bert'][i] >= 0.81:\n",
    "        data['y_bert'][i] = 1\n",
    "    else:\n",
    "        data['y_bert'][i] = 0\n",
    "    \n",
    "data['cm_bert']=''\n",
    "for k in range(0,len(data)):\n",
    "    if (data['y_true'][k] == 1) and (data['y_bert'][k] == 1):\n",
    "        data['cm_bert'][k] = 'TP'\n",
    "    elif (data['y_true'][k] == 0) and (data['y_bert'][k] == 1):\n",
    "        data['cm_bert'][k] = 'FP'\n",
    "    elif (data['y_true'][k] == 1) and (data['y_bert'][k] == 0):\n",
    "        data['cm_bert'][k] = 'FN'\n",
    "    else:\n",
    "        data['cm_bert'][k] = 'TN'\n",
    "\n",
    "print('---------- Bert + Cosine ----------')\n",
    "tp = data.cm_bert.value_counts().TP if 'TP' in data.cm_bert.value_counts() is not None else 0\n",
    "print('true positives:',tp)\n",
    "tn = data.cm_bert.value_counts().TN if 'TN' in data.cm_bert.value_counts() is not None else 0\n",
    "print('true negatives:',tn)\n",
    "fp = data.cm_bert.value_counts().FP if 'FP' in data.cm_bert.value_counts() is not None else 0\n",
    "print('false positives:',fp)\n",
    "fn = data.cm_bert.value_counts().FN if 'FN' in data.cm_bert.value_counts() is not None else 0\n",
    "print('false negatives:',fn)\n",
    "\n",
    "precision = (tp/(tp+fp)) if (tp+fp) is not 0 else 0\n",
    "print('precision:',precision)\n",
    "\n",
    "specificity = (tn / (tn + fp)) if (tn + fp) is not 0 else 0\n",
    "print('specificity:',specificity)\n",
    "    \n",
    "recall = (tp/(tp+fn)) if (tp+fn) is not 0 else 0\n",
    "print('recall:',recall)   \n",
    "\n",
    "acc = ((tp+tn)/(tp+tn+fp+fn)) if (tp+tn+fp+fn) is not 0 else 0\n",
    "print('accuracy:',acc)\n",
    "\n",
    "data.head(3)"
   ]
  },
  {
   "cell_type": "code",
   "execution_count": 6,
   "metadata": {},
   "outputs": [],
   "source": [
    "from sklearn.model_selection import GridSearchCV\n",
    "from sklearn.feature_extraction.text import CountVectorizer\n",
    "from sklearn.feature_extraction.text import TfidfTransformer\n",
    "from sklearn.pipeline import Pipeline\n",
    "from sklearn.decomposition import LatentDirichletAllocation"
   ]
  },
  {
   "cell_type": "code",
   "execution_count": 7,
   "metadata": {},
   "outputs": [
    {
     "data": {
      "text/html": [
       "<div>\n",
       "<style scoped>\n",
       "    .dataframe tbody tr th:only-of-type {\n",
       "        vertical-align: middle;\n",
       "    }\n",
       "\n",
       "    .dataframe tbody tr th {\n",
       "        vertical-align: top;\n",
       "    }\n",
       "\n",
       "    .dataframe thead th {\n",
       "        text-align: right;\n",
       "    }\n",
       "</style>\n",
       "<table border=\"1\" class=\"dataframe\">\n",
       "  <thead>\n",
       "    <tr style=\"text-align: right;\">\n",
       "      <th></th>\n",
       "      <th>0</th>\n",
       "      <th>1</th>\n",
       "      <th>2</th>\n",
       "      <th>3</th>\n",
       "      <th>4</th>\n",
       "      <th>5</th>\n",
       "      <th>6</th>\n",
       "      <th>7</th>\n",
       "      <th>8</th>\n",
       "      <th>9</th>\n",
       "      <th>topic_number</th>\n",
       "      <th>topic</th>\n",
       "    </tr>\n",
       "  </thead>\n",
       "  <tbody>\n",
       "    <tr>\n",
       "      <th>0</th>\n",
       "      <td>0.085800</td>\n",
       "      <td>0.003127</td>\n",
       "      <td>0.118544</td>\n",
       "      <td>0.003125</td>\n",
       "      <td>0.003126</td>\n",
       "      <td>0.003126</td>\n",
       "      <td>0.284433</td>\n",
       "      <td>0.163771</td>\n",
       "      <td>0.331823</td>\n",
       "      <td>0.003126</td>\n",
       "      <td>8</td>\n",
       "      <td>component container device intended lot</td>\n",
       "    </tr>\n",
       "    <tr>\n",
       "      <th>1</th>\n",
       "      <td>0.001429</td>\n",
       "      <td>0.001429</td>\n",
       "      <td>0.287255</td>\n",
       "      <td>0.001429</td>\n",
       "      <td>0.001429</td>\n",
       "      <td>0.001429</td>\n",
       "      <td>0.454924</td>\n",
       "      <td>0.001429</td>\n",
       "      <td>0.247820</td>\n",
       "      <td>0.001429</td>\n",
       "      <td>6</td>\n",
       "      <td>drug product control quality process material</td>\n",
       "    </tr>\n",
       "    <tr>\n",
       "      <th>2</th>\n",
       "      <td>0.014287</td>\n",
       "      <td>0.014291</td>\n",
       "      <td>0.323193</td>\n",
       "      <td>0.014288</td>\n",
       "      <td>0.014286</td>\n",
       "      <td>0.014288</td>\n",
       "      <td>0.014291</td>\n",
       "      <td>0.014286</td>\n",
       "      <td>0.562503</td>\n",
       "      <td>0.014287</td>\n",
       "      <td>8</td>\n",
       "      <td>component container device intended lot</td>\n",
       "    </tr>\n",
       "    <tr>\n",
       "      <th>3</th>\n",
       "      <td>0.014286</td>\n",
       "      <td>0.014290</td>\n",
       "      <td>0.014288</td>\n",
       "      <td>0.014286</td>\n",
       "      <td>0.014287</td>\n",
       "      <td>0.014286</td>\n",
       "      <td>0.014290</td>\n",
       "      <td>0.014286</td>\n",
       "      <td>0.871415</td>\n",
       "      <td>0.014286</td>\n",
       "      <td>8</td>\n",
       "      <td>component container device intended lot</td>\n",
       "    </tr>\n",
       "    <tr>\n",
       "      <th>4</th>\n",
       "      <td>0.004764</td>\n",
       "      <td>0.138245</td>\n",
       "      <td>0.004763</td>\n",
       "      <td>0.004763</td>\n",
       "      <td>0.004763</td>\n",
       "      <td>0.004764</td>\n",
       "      <td>0.004763</td>\n",
       "      <td>0.195332</td>\n",
       "      <td>0.633082</td>\n",
       "      <td>0.004763</td>\n",
       "      <td>8</td>\n",
       "      <td>component container device intended lot</td>\n",
       "    </tr>\n",
       "  </tbody>\n",
       "</table>\n",
       "</div>"
      ],
      "text/plain": [
       "          0         1         2         3         4         5         6  \\\n",
       "0  0.085800  0.003127  0.118544  0.003125  0.003126  0.003126  0.284433   \n",
       "1  0.001429  0.001429  0.287255  0.001429  0.001429  0.001429  0.454924   \n",
       "2  0.014287  0.014291  0.323193  0.014288  0.014286  0.014288  0.014291   \n",
       "3  0.014286  0.014290  0.014288  0.014286  0.014287  0.014286  0.014290   \n",
       "4  0.004764  0.138245  0.004763  0.004763  0.004763  0.004764  0.004763   \n",
       "\n",
       "          7         8         9  topic_number  \\\n",
       "0  0.163771  0.331823  0.003126             8   \n",
       "1  0.001429  0.247820  0.001429             6   \n",
       "2  0.014286  0.562503  0.014287             8   \n",
       "3  0.014286  0.871415  0.014286             8   \n",
       "4  0.195332  0.633082  0.004763             8   \n",
       "\n",
       "                                           topic  \n",
       "0        component container device intended lot  \n",
       "1  drug product control quality process material  \n",
       "2        component container device intended lot  \n",
       "3        component container device intended lot  \n",
       "4        component container device intended lot  "
      ]
     },
     "execution_count": 7,
     "metadata": {},
     "output_type": "execute_result"
    }
   ],
   "source": [
    "bow1 = CountVectorizer(stop_words = 'english',\n",
    "                       min_df = 8, \n",
    "                       max_df = 25, \n",
    "                       ngram_range = (1,2),\n",
    "                       max_features = 10000)\n",
    "\n",
    "documents_bow1 = bow1.fit_transform(data['fda_desc_cleaned'])\n",
    "\n",
    "scores1 = []\n",
    "for k in range(1, 11):\n",
    "    lda = LatentDirichletAllocation(n_components=k, random_state = 100)\n",
    "    lda.fit(documents_bow1)\n",
    "    scores1.append(lda.score(documents_bow1)) # loglikelihood score\n",
    "    \n",
    "max_score1 = np.argmax(scores1)\n",
    "num_topics1 = max_score1 + 1\n",
    "\n",
    "lda1 = LatentDirichletAllocation(n_components = num_topics1, random_state = 100) \n",
    "lda_results1 = lda1.fit_transform(documents_bow1) \n",
    "\n",
    "lda_results1 = pd.DataFrame(lda_results1)\n",
    "topic_lst1 = show_topics(lda1.components_, bow1.get_feature_names())\n",
    "\n",
    "lda_results1['topic_number'] = lda_results1.idxmax(axis=1)\n",
    "lda_results1['topic'] = ''\n",
    "for i in range(0,len(lda_results1)):\n",
    "    x = lda_results1.topic_number[i]\n",
    "    lda_results1['topic'][i] = topic_lst1[x]\n",
    "\n",
    "lda_results1.head()"
   ]
  },
  {
   "cell_type": "code",
   "execution_count": 8,
   "metadata": {},
   "outputs": [
    {
     "data": {
      "text/html": [
       "<div>\n",
       "<style scoped>\n",
       "    .dataframe tbody tr th:only-of-type {\n",
       "        vertical-align: middle;\n",
       "    }\n",
       "\n",
       "    .dataframe tbody tr th {\n",
       "        vertical-align: top;\n",
       "    }\n",
       "\n",
       "    .dataframe thead th {\n",
       "        text-align: right;\n",
       "    }\n",
       "</style>\n",
       "<table border=\"1\" class=\"dataframe\">\n",
       "  <thead>\n",
       "    <tr style=\"text-align: right;\">\n",
       "      <th></th>\n",
       "      <th>0</th>\n",
       "      <th>1</th>\n",
       "      <th>2</th>\n",
       "      <th>3</th>\n",
       "      <th>4</th>\n",
       "      <th>5</th>\n",
       "      <th>6</th>\n",
       "      <th>7</th>\n",
       "      <th>8</th>\n",
       "      <th>9</th>\n",
       "      <th>topic_number</th>\n",
       "      <th>topic</th>\n",
       "    </tr>\n",
       "  </thead>\n",
       "  <tbody>\n",
       "    <tr>\n",
       "      <th>0</th>\n",
       "      <td>0.007693</td>\n",
       "      <td>0.007692</td>\n",
       "      <td>0.325079</td>\n",
       "      <td>0.007693</td>\n",
       "      <td>0.613381</td>\n",
       "      <td>0.007693</td>\n",
       "      <td>0.007692</td>\n",
       "      <td>0.007692</td>\n",
       "      <td>0.007692</td>\n",
       "      <td>0.007692</td>\n",
       "      <td>4</td>\n",
       "      <td>material packaging batch lot batch lot</td>\n",
       "    </tr>\n",
       "    <tr>\n",
       "      <th>1</th>\n",
       "      <td>0.007693</td>\n",
       "      <td>0.007692</td>\n",
       "      <td>0.325079</td>\n",
       "      <td>0.007693</td>\n",
       "      <td>0.613381</td>\n",
       "      <td>0.007693</td>\n",
       "      <td>0.007692</td>\n",
       "      <td>0.007692</td>\n",
       "      <td>0.007692</td>\n",
       "      <td>0.007692</td>\n",
       "      <td>4</td>\n",
       "      <td>material packaging batch lot batch lot</td>\n",
       "    </tr>\n",
       "    <tr>\n",
       "      <th>2</th>\n",
       "      <td>0.007693</td>\n",
       "      <td>0.007692</td>\n",
       "      <td>0.325079</td>\n",
       "      <td>0.007693</td>\n",
       "      <td>0.613381</td>\n",
       "      <td>0.007693</td>\n",
       "      <td>0.007692</td>\n",
       "      <td>0.007692</td>\n",
       "      <td>0.007692</td>\n",
       "      <td>0.007692</td>\n",
       "      <td>4</td>\n",
       "      <td>material packaging batch lot batch lot</td>\n",
       "    </tr>\n",
       "    <tr>\n",
       "      <th>3</th>\n",
       "      <td>0.007143</td>\n",
       "      <td>0.007143</td>\n",
       "      <td>0.524134</td>\n",
       "      <td>0.007143</td>\n",
       "      <td>0.418721</td>\n",
       "      <td>0.007143</td>\n",
       "      <td>0.007143</td>\n",
       "      <td>0.007144</td>\n",
       "      <td>0.007143</td>\n",
       "      <td>0.007143</td>\n",
       "      <td>2</td>\n",
       "      <td>contamination drug contamination fabricator ac...</td>\n",
       "    </tr>\n",
       "    <tr>\n",
       "      <th>4</th>\n",
       "      <td>0.010002</td>\n",
       "      <td>0.010003</td>\n",
       "      <td>0.778668</td>\n",
       "      <td>0.010002</td>\n",
       "      <td>0.141321</td>\n",
       "      <td>0.010001</td>\n",
       "      <td>0.010000</td>\n",
       "      <td>0.010001</td>\n",
       "      <td>0.010000</td>\n",
       "      <td>0.010001</td>\n",
       "      <td>2</td>\n",
       "      <td>contamination drug contamination fabricator ac...</td>\n",
       "    </tr>\n",
       "  </tbody>\n",
       "</table>\n",
       "</div>"
      ],
      "text/plain": [
       "          0         1         2         3         4         5         6  \\\n",
       "0  0.007693  0.007692  0.325079  0.007693  0.613381  0.007693  0.007692   \n",
       "1  0.007693  0.007692  0.325079  0.007693  0.613381  0.007693  0.007692   \n",
       "2  0.007693  0.007692  0.325079  0.007693  0.613381  0.007693  0.007692   \n",
       "3  0.007143  0.007143  0.524134  0.007143  0.418721  0.007143  0.007143   \n",
       "4  0.010002  0.010003  0.778668  0.010002  0.141321  0.010001  0.010000   \n",
       "\n",
       "          7         8         9  topic_number  \\\n",
       "0  0.007692  0.007692  0.007692             4   \n",
       "1  0.007692  0.007692  0.007692             4   \n",
       "2  0.007692  0.007692  0.007692             4   \n",
       "3  0.007144  0.007143  0.007143             2   \n",
       "4  0.010001  0.010000  0.010001             2   \n",
       "\n",
       "                                               topic  \n",
       "0             material packaging batch lot batch lot  \n",
       "1             material packaging batch lot batch lot  \n",
       "2             material packaging batch lot batch lot  \n",
       "3  contamination drug contamination fabricator ac...  \n",
       "4  contamination drug contamination fabricator ac...  "
      ]
     },
     "execution_count": 8,
     "metadata": {},
     "output_type": "execute_result"
    }
   ],
   "source": [
    "bow2 = CountVectorizer(stop_words = 'english',\n",
    "                       min_df = 8, \n",
    "                       max_df = 25, \n",
    "                       ngram_range = (1,2),\n",
    "                       max_features = 10000)\n",
    "\n",
    "documents_bow2 = bow2.fit_transform(data['hc_desc_cleaned'])\n",
    "\n",
    "scores2 = []\n",
    "for k in range(1, 11):\n",
    "    lda = LatentDirichletAllocation(n_components=k, random_state = 100)\n",
    "    lda.fit(documents_bow2)\n",
    "    scores2.append(lda.score(documents_bow2)) # loglikelihood score\n",
    "    \n",
    "max_score2 = np.argmax(scores2)\n",
    "num_topics2 = max_score2 + 1\n",
    "\n",
    "lda2 = LatentDirichletAllocation(n_components = num_topics2, random_state = 100) \n",
    "lda_results2 = lda2.fit_transform(documents_bow2) \n",
    "lda_results2 = pd.DataFrame(lda_results2)\n",
    "topic_lst2 = show_topics(lda2.components_, bow2.get_feature_names())\n",
    "\n",
    "lda_results2['topic_number'] = lda_results2.idxmax(axis=1)\n",
    "lda_results2['topic'] = ''\n",
    "for i in range(0,len(lda_results2)):\n",
    "    x = lda_results2.topic_number[i]\n",
    "    lda_results2['topic'][i] = topic_lst2[x]\n",
    "\n",
    "lda_results2.head()"
   ]
  },
  {
   "cell_type": "code",
   "execution_count": 9,
   "metadata": {},
   "outputs": [
    {
     "data": {
      "text/plain": [
       "'prescription date food drug food number'"
      ]
     },
     "execution_count": 9,
     "metadata": {},
     "output_type": "execute_result"
    }
   ],
   "source": [
    "lda_results1.topic[25]"
   ]
  },
  {
   "cell_type": "code",
   "execution_count": 10,
   "metadata": {},
   "outputs": [
    {
     "data": {
      "text/plain": [
       "'ingredient human period form year'"
      ]
     },
     "execution_count": 10,
     "metadata": {},
     "output_type": "execute_result"
    }
   ],
   "source": [
    "lda_results2.topic[25]"
   ]
  },
  {
   "cell_type": "code",
   "execution_count": 11,
   "metadata": {},
   "outputs": [
    {
     "data": {
      "text/plain": [
       "0.5598774"
      ]
     },
     "execution_count": 11,
     "metadata": {},
     "output_type": "execute_result"
    }
   ],
   "source": [
    "sent1=lda_results1.topic[16]\n",
    "sent2=lda_results2.topic[16]\n",
    "enc_sentences = embedder.encode([sent1,sent2])\n",
    "cosine_sim(enc_sentences[0:1],enc_sentences)[0,1]"
   ]
  },
  {
   "cell_type": "code",
   "execution_count": 12,
   "metadata": {},
   "outputs": [
    {
     "data": {
      "text/plain": [
       "0.7286489"
      ]
     },
     "execution_count": 12,
     "metadata": {},
     "output_type": "execute_result"
    }
   ],
   "source": [
    "sent1=lda_results1.topic[0]\n",
    "sent2=lda_results2.topic[0]\n",
    "enc_sentences = embedder.encode([sent1,sent2])\n",
    "cosine_sim(enc_sentences[0:1],enc_sentences)[0,1]"
   ]
  },
  {
   "cell_type": "code",
   "execution_count": 13,
   "metadata": {},
   "outputs": [],
   "source": [
    "data['topic_score'] = ''\n",
    "data['topic_match']=''\n",
    "\n",
    "for i in range(0,len(data)):\n",
    "    sent1=lda_results1.topic[i]\n",
    "    sent2=lda_results2.topic[i]\n",
    "    enc_sentences = embedder.encode([sent1,sent2])\n",
    "    score = cosine_sim(enc_sentences[0:1],enc_sentences)[0,1]\n",
    "    data['topic_score'][i] = score\n",
    "    if score >=0.7:\n",
    "        data['topic_match'][i] = 'Y'\n",
    "    else:\n",
    "        data['topic_match'][i] = 'N'"
   ]
  },
  {
   "cell_type": "code",
   "execution_count": 14,
   "metadata": {},
   "outputs": [
    {
     "name": "stdout",
     "output_type": "stream",
     "text": [
      "---------- LDA results ---------- \n",
      "true positives: 3\n",
      "true negatives: 68\n",
      "false positives: 1\n",
      "false negatives: 16\n",
      "precision: 0.75\n",
      "specificity: 0.9855072463768116\n",
      "recall: 0.15789473684210525\n",
      "accuracy: 0.8068181818181818\n"
     ]
    }
   ],
   "source": [
    "data['cm_topic']=''\n",
    "for k in range(0,len(data)):\n",
    "    if (data['truth'][k] == 'Y') and (data['topic_match'][k] == 'Y'):\n",
    "        data['cm_topic'][k] = 'TP'\n",
    "    elif (data['truth'][k] == 'N') and (data['topic_match'][k] == 'Y'):\n",
    "        data['cm_topic'][k] = 'FP'\n",
    "    elif (data['truth'][k] == 'Y') and (data['topic_match'][k] == 'N'):\n",
    "        data['cm_topic'][k] = 'FN'\n",
    "    else:\n",
    "        data['cm_topic'][k] = 'TN'\n",
    " \n",
    "print('---------- LDA results ---------- ')\n",
    "tp = data.cm_topic.value_counts().TP if 'TP' in data.cm_topic.value_counts() is not None else 0\n",
    "print('true positives:',tp)\n",
    "tn = data.cm_topic.value_counts().TN if 'TN' in data.cm_topic.value_counts() is not None else 0\n",
    "print('true negatives:',tn)\n",
    "fp = data.cm_topic.value_counts().FP if 'FP' in data.cm_topic.value_counts() is not None else 0\n",
    "print('false positives:',fp)\n",
    "fn = data.cm_topic.value_counts().FN if 'FN' in data.cm_topic.value_counts() is not None else 0\n",
    "print('false negatives:',fn)\n",
    "\n",
    "precision = (tp/(tp+fp)) if (tp+fp) is not 0 else 0\n",
    "print('precision:',precision)\n",
    "\n",
    "specificity = (tn / (tn + fp)) if (tn + fp) is not 0 else 0\n",
    "print('specificity:',specificity)\n",
    "    \n",
    "recall = (tp/(tp+fn)) if (tp+fn) is not 0 else 0\n",
    "print('recall:',recall)   \n",
    "\n",
    "acc = ((tp+tn)/(tp+tn+fp+fn)) if (tp+tn+fp+fn) is not 0 else 0\n",
    "print('accuracy:',acc)\n"
   ]
  },
  {
   "cell_type": "code",
   "execution_count": 15,
   "metadata": {},
   "outputs": [
    {
     "data": {
      "text/plain": [
       "'(a) Any building used in the manufacture, processing, packing, or holding of a drug product shall be maintained in a clean and sanitary condition, Any such building shall be free of infestation by rodents, birds, insects, and other vermin (other than laboratory animals). Trash and organic waste matter shall be held and disposed of in a timely and sanitary manner.  (b) There shall be written procedures assigning responsibility for sanitation and describing in sufficient detail the cleaning schedules, methods, equipment, and materials to be used in cleaning the buildings and facilities; such written procedures shall be followed.  (c) There shall be written procedures for use of suitable rodenticides, insecticides, fungicides, fumigating agents, and cleaning and sanitizing agents. Such written procedures shall be designed to prevent the contamination of equipment, components, drug product containers, closures, packaging, labeling materials, or drug products and shall be followed. Rodenticides, insecticides, and fungicides shall not be used unless registered and used in accordance with the Federal Insecticide, Fungicide, and Rodenticide Act (7 U.S.C. 135).  (d) Sanitation procedures shall apply to work performed by contractors or temporary employees as well as work performed by full-time employees during the ordinary course of operations.'"
      ]
     },
     "execution_count": 15,
     "metadata": {},
     "output_type": "execute_result"
    }
   ],
   "source": [
    "data['FDA_Description'][0]"
   ]
  },
  {
   "cell_type": "code",
   "execution_count": 16,
   "metadata": {},
   "outputs": [
    {
     "data": {
      "text/plain": [
       "'component container device intended lot'"
      ]
     },
     "execution_count": 16,
     "metadata": {},
     "output_type": "execute_result"
    }
   ],
   "source": [
    "lda_results1.topic[0]"
   ]
  },
  {
   "cell_type": "code",
   "execution_count": 17,
   "metadata": {},
   "outputs": [
    {
     "data": {
      "text/plain": [
       "'The premises in which a lot or batch of a drug is fabricated, packaged/labelled or stored shall be designed, constructed and maintained in a manner that (a) permits the operations therein to be performed under clean, sanitary and orderly conditions; (b) permits the effective cleaning of all surfaces therein; and (c) prevents the contamination of the drug and the addition of extraneous material to the drug. '"
      ]
     },
     "execution_count": 17,
     "metadata": {},
     "output_type": "execute_result"
    }
   ],
   "source": [
    "data['HC_Description'][0]"
   ]
  },
  {
   "cell_type": "code",
   "execution_count": 18,
   "metadata": {},
   "outputs": [
    {
     "data": {
      "text/plain": [
       "'material packaging batch lot batch lot'"
      ]
     },
     "execution_count": 18,
     "metadata": {},
     "output_type": "execute_result"
    }
   ],
   "source": [
    "lda_results2.topic[0]"
   ]
  },
  {
   "cell_type": "code",
   "execution_count": 19,
   "metadata": {},
   "outputs": [
    {
     "data": {
      "text/plain": [
       "'Buildings in which Type A medicated article(s) are manufactured, processed, packaged, labeled, or held shall be maintained in a clear and orderly manner and shall be of suitable size, construction and location in relation to surroundings to facilitate maintenance and operation for their intended purpose. The building shall:  (a) Provide adequate space for the orderly placement of equipment and materials used in any of the following operations for which they are employed to minimize risk of mixups between different Type A medicated article(s), their components, packaging, or labeling:  (1) The receipt, sampling, control, and storage of components.  (2) Manufacturing and processing operations performed on the Type A medicated article(s).  (3) Packaging and labeling operations.  (4) Storage of containers, packaging materials, labeling, and finished products.  (5) Control laboratory operations.  (b) Provide adequate lighting and ventilation, and when necessary for the intended production or control purposes, adequate screening, dust and temperature controls, to avoid contamination of Type A medicated article(s), and to avoid other conditions unfavorable to the safety, identity, strength, quality, and purity of the raw materials and Type A medicated article(s) before, during, and after production.  (c) Provide for adequate washing, cleaning, toilet, and locker facilities.  Work areas and equipment used for the production of Type A medicated article(s) or for the storage of the components of Type A medicated article(s) shall not be used for the production, mixing or storage of finished or unfinished insecticides, fungicides, rodenticides, or other pesticides or their components unless such materials are recognized as approved drugs intended for use in animal feeds.'"
      ]
     },
     "execution_count": 19,
     "metadata": {},
     "output_type": "execute_result"
    }
   ],
   "source": [
    "data['FDA_Description'][1]"
   ]
  },
  {
   "cell_type": "code",
   "execution_count": 20,
   "metadata": {},
   "outputs": [
    {
     "data": {
      "text/plain": [
       "'drug product control quality process material'"
      ]
     },
     "execution_count": 20,
     "metadata": {},
     "output_type": "execute_result"
    }
   ],
   "source": [
    "lda_results1.topic[1]"
   ]
  },
  {
   "cell_type": "code",
   "execution_count": 21,
   "metadata": {},
   "outputs": [
    {
     "data": {
      "text/plain": [
       "'The premises in which a lot or batch of a drug is fabricated, packaged/labelled or stored shall be designed, constructed and maintained in a manner that (a) permits the operations therein to be performed under clean, sanitary and orderly conditions; (b) permits the effective cleaning of all surfaces therein; and (c) prevents the contamination of the drug and the addition of extraneous material to the drug. '"
      ]
     },
     "execution_count": 21,
     "metadata": {},
     "output_type": "execute_result"
    }
   ],
   "source": [
    "data['HC_Description'][1]"
   ]
  },
  {
   "cell_type": "code",
   "execution_count": 22,
   "metadata": {},
   "outputs": [
    {
     "data": {
      "text/plain": [
       "'material packaging batch lot batch lot'"
      ]
     },
     "execution_count": 22,
     "metadata": {},
     "output_type": "execute_result"
    }
   ],
   "source": [
    "lda_results2.topic[1]"
   ]
  },
  {
   "cell_type": "code",
   "execution_count": 23,
   "metadata": {},
   "outputs": [],
   "source": [
    "data.to_excel('topic_modelling_predictions.xlsx',index=False)"
   ]
  },
  {
   "cell_type": "code",
   "execution_count": null,
   "metadata": {},
   "outputs": [],
   "source": []
  }
 ],
 "metadata": {
  "kernelspec": {
   "display_name": "Python 3",
   "language": "python",
   "name": "python3"
  },
  "language_info": {
   "codemirror_mode": {
    "name": "ipython",
    "version": 3
   },
   "file_extension": ".py",
   "mimetype": "text/x-python",
   "name": "python",
   "nbconvert_exporter": "python",
   "pygments_lexer": "ipython3",
   "version": "3.8.3"
  }
 },
 "nbformat": 4,
 "nbformat_minor": 4
}
